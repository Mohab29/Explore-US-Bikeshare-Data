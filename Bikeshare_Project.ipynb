{
 "cells": [
  {
   "cell_type": "markdown",
   "id": "7c1b42cc",
   "metadata": {},
   "source": [
    "# Project: Explore US Bikeshare Data\n",
    "\n",
    "## Table of Contents\n",
    "<ul>\n",
    "<li><a href=\"#intro\">Introduction</a></li>\n",
    "<li><a href=\"#script\">Python Script</a></li>\n",
    "<li><a href=\"#conclusions\">Conclusions</a></li>\n",
    "</ul>"
   ]
  },
  {
   "cell_type": "markdown",
   "id": "e1f0f206",
   "metadata": {},
   "source": [
    "<a id='intro'></a>\n",
    "## Introduction\n",
    "\n",
    "> ### Overview\n",
    ">Bicycle-sharing systems allow users to rent bicycles on a very short-term basis for a price. This allows people to borrow a bike from point A and return it at point B, though they can also return it to the same location if they'd like to just go for a ride. Regardless, each bike can serve several users per day.\n",
    "\n",
    ">In this project, we will use data provided by Motivate, a bike share system provider for many major cities in the United States, to uncover bike share usage patterns. You will compare the system usage between three large cities: Chicago, New York City, and Washington."
   ]
  },
  {
   "cell_type": "markdown",
   "id": "261c9531",
   "metadata": {},
   "source": [
    ">### Dataset Description\n",
    "\n",
    ">Randomly selected data for the first six months of 2017 are provided for all three cities. All three of the data files contain the same core six (6) columns:\n",
    "\n",
    ">- Start Time (e.g., 2017-01-01 00:07:57).\n",
    ">- End Time (e.g., 2017-01-01 00:20:53).\n",
    ">- Trip Duration (in seconds - e.g., 776).\n",
    ">- Start Station (e.g., Broadway & Barry Ave).\n",
    ">- End Station (e.g., Sedgwick St & North Ave).\n",
    ">- User Type (Subscriber or Customer).\n",
    "\n",
    ">The Chicago and New York City files also have the following two columns:\n",
    ">- Gender.\n",
    ">- Birth Year."
   ]
  },
  {
   "cell_type": "markdown",
   "id": "28a2f245",
   "metadata": {},
   "source": [
    "> we will learn about bike share use in Chicago, New York City, and Washington by computing a variety of descriptive statistics. In this project, we'll write code to provide the following information:\n",
    "\n",
    ">**Popular times of travel (i.e., occurs most often in the start time)**\n",
    ">- Most common month.\n",
    ">- Most common day of week.\n",
    ">- Most common hour of day.\n",
    "\n",
    ">**Popular stations and trip**\n",
    ">- Most common start station.\n",
    ">- Most common end station.\n",
    ">- Most common trip from start to end (i.e., most frequent combination of start station and end station).\n",
    "\n",
    ">**Trip duration**\n",
    ">- Total travel time.\n",
    ">- Average travel time.\n",
    "\n",
    "\n",
    ">**User info**\n",
    ">- Counts of each user type.\n",
    ">- Counts of each gender (only available for NYC and Chicago).\n",
    ">- Earliest, most recent, most common year of birth (only available for NYC and Chicago)."
   ]
  },
  {
   "cell_type": "markdown",
   "id": "a820218c",
   "metadata": {},
   "source": [
    ">### Software\n",
    "> To complete this project, we will need the following softwares:\n",
    ">- python.\n",
    ">- time, NumPy, and pandas libaries installed.\n",
    ">- Code editor & terminal program like Spyder or Jupyter notebook."
   ]
  },
  {
   "cell_type": "markdown",
   "id": "a1f8ff33",
   "metadata": {},
   "source": [
    "<a id='script'></a>\n",
    "## Python Script "
   ]
  },
  {
   "cell_type": "markdown",
   "id": "288bf6ce",
   "metadata": {},
   "source": [
    "> First we need to import the libaries which we will use."
   ]
  },
  {
   "cell_type": "code",
   "execution_count": 1,
   "id": "72de1a46",
   "metadata": {},
   "outputs": [],
   "source": [
    "# Use this cell to set up import statements \n",
    "#   for all of the packages that you plan to use.\n",
    "import time\n",
    "import pandas as pd\n",
    "import numpy as np"
   ]
  },
  {
   "cell_type": "markdown",
   "id": "2365922b",
   "metadata": {},
   "source": [
    "> To expedite the work, let's make some variables which we will need inside the code."
   ]
  },
  {
   "cell_type": "code",
   "execution_count": 2,
   "id": "627f8616",
   "metadata": {},
   "outputs": [],
   "source": [
    "CITY_DATA = { 'chicago': 'chicago.csv',\n",
    "              'new york city': 'new_york_city.csv',\n",
    "              'washington': 'washington.csv' }\n",
    "months = ['january', 'february', 'march', 'april', 'may', 'june', 'all']\n",
    "days = ['monday', 'tuesday', 'wednesday', 'thursday', 'friday', 'saturday', 'sunday', 'all']"
   ]
  },
  {
   "cell_type": "markdown",
   "id": "9f841d8c",
   "metadata": {},
   "source": [
    "> At the beginning, we will ask the user to specify a city, month, and day to analyze.\n",
    "\n",
    "> Returns:\n",
    ">- (str) city - name of the city to analyze.\n",
    ">- (str) month - name of the month to filter by, or \"all\" to apply no month filter.\n",
    ">- (str) day - name of the day of week to filter by, or \"all\" to apply no day filter."
   ]
  },
  {
   "cell_type": "code",
   "execution_count": 3,
   "id": "a0b5f52d",
   "metadata": {},
   "outputs": [],
   "source": [
    "def get_filters():\n",
    "    \n",
    "    print('Hello! Let\\'s explore some US bikeshare data!')\n",
    "    # get user input for city (chicago, new york city, washington). \n",
    "    city=input('ًWould you like to see data for chicago, new york city, washington? ').lower()\n",
    "    while city not in (CITY_DATA.keys()):\n",
    "        print('Wrong City')\n",
    "        city=input('ًWould you like to see data for chicago, new york city, washington? ').lower()\n",
    "    \n",
    "    # get user input for month (all, january, february, ... , june)\n",
    "    month=input('all, january, february, march, april, may, june ').lower()\n",
    "    while month not in months:\n",
    "        print('Wrong Month')\n",
    "        month=input('all, january, february, march, april, may, june ').lower()\n",
    "    \n",
    "    # get user input for day of week (all, monday, tuesday, ... sunday)\n",
    "    day=input('all, monday, tuesday, wednesday, thursday, friday, saturday, sunday ').lower()\n",
    "    while day not in days:\n",
    "        print('Wrong Day')\n",
    "        day=input('all, monday, tuesday, wednesday, thursday, friday, saturday, sunday ').lower()\n",
    "    print('-'*40)\n",
    "    \n",
    "    return city, month, day"
   ]
  },
  {
   "cell_type": "markdown",
   "id": "43aad1f6",
   "metadata": {},
   "source": [
    "> After that let's load the data that the user give to us for the specified city and filters by month and day if applicable.\n",
    "\n",
    ">Args:\n",
    ">- (str) city - name of the city to analyze.\n",
    ">- (str) month - name of the month to filter by, or \"all\" to apply no month filter.\n",
    ">- (str) day - name of the day of week to filter by, or \"all\" to apply no day filter.\n",
    "\n",
    ">Returns:\n",
    ">- df - Pandas DataFrame containing city data filtered by month and day."
   ]
  },
  {
   "cell_type": "code",
   "execution_count": 4,
   "id": "607ca5b7",
   "metadata": {},
   "outputs": [],
   "source": [
    "def load_data(city, month, day):\n",
    "    \n",
    "   # load data file into a dataframe\n",
    "    df = pd.read_csv(CITY_DATA[city])\n",
    "\n",
    "    # convert the Start Time column to datetime\n",
    "    df['Start Time'] = pd.to_datetime(df['Start Time'])\n",
    "\n",
    "    # extract month and day of week from Start Time to create new columns\n",
    "    df['month'] = df['Start Time'].dt.month\n",
    "    df['day_of_week'] = df['Start Time'].dt.dayofweek\n",
    "    days = {0:'Monday',1:'Tuesday',2:'Wednesday',3:'Thursday',4:'Friday',5:'Satday',6:'Sunday'}\n",
    "    df['day_of_week'] = df['day_of_week'].apply(lambda x: days[x])\n",
    "    df['hour'] = df['Start Time'].dt.hour\n",
    "\n",
    "\n",
    "    # filter by month if applicable\n",
    "    if month != 'all':\n",
    "        # use the index of the months list to get the corresponding int\n",
    "        months = ['january', 'february', 'march', 'april', 'may', 'june']\n",
    "        month = months.index(month) + 1\n",
    "    \n",
    "        # filter by month to create the new dataframe\n",
    "        df = df[df['month'] == month]\n",
    "\n",
    "    # filter by day of week if applicable\n",
    "    if day != 'all':\n",
    "        # filter by day of week to create the new dataframe\n",
    "        df = df[df['day_of_week'] == day.title()]\n",
    "    \n",
    "    return df"
   ]
  },
  {
   "cell_type": "markdown",
   "id": "089aeac4",
   "metadata": {},
   "source": [
    ">**Now let's display some statistics from the dataset**\n",
    "\n",
    ">1. Displays statistics on the most frequent times of travel."
   ]
  },
  {
   "cell_type": "code",
   "execution_count": 5,
   "id": "44690301",
   "metadata": {},
   "outputs": [],
   "source": [
    "def time_stats(df):\n",
    "\n",
    "    print('\\nCalculating The Most Frequent Times of Travel...\\n')\n",
    "    start_time = time.time()\n",
    "\n",
    "    # display the most common month\n",
    "    print(df['month'].mode()[0])\n",
    "    \n",
    "    # display the most common day of week\n",
    "    print(df['day_of_week'].mode()[0])\n",
    "    \n",
    "    # display the most common start hour\n",
    "    print(df['hour'].mode()[0])\n",
    "    \n",
    "    print(\"\\nThis took %s seconds.\" % (time.time() - start_time))\n",
    "    print('-'*40)"
   ]
  },
  {
   "cell_type": "markdown",
   "id": "52d6159d",
   "metadata": {},
   "source": [
    ">2. Displays statistics on the most popular stations and trip."
   ]
  },
  {
   "cell_type": "code",
   "execution_count": 6,
   "id": "11986dd8",
   "metadata": {},
   "outputs": [],
   "source": [
    "def station_stats(df):\n",
    "\n",
    "    print('\\nCalculating The Most Popular Stations and Trip...\\n')\n",
    "    start_time = time.time()\n",
    "\n",
    "    # display most commonly used start station\n",
    "    print(df['Start Station'].mode()[0])\n",
    "    \n",
    "    # display most commonly used end station\n",
    "    print(df['End Station'].mode()[0])\n",
    "    \n",
    "    # display most frequent combination of start station and end station trip\n",
    "    frequent_trip = df['Start Station'] + ' to ' + df['End Station']\n",
    "    print(frequent_trip.mode()[0])\n",
    "    print(\"\\nThis took %s seconds.\" % (time.time() - start_time))\n",
    "    print('-'*40)"
   ]
  },
  {
   "cell_type": "markdown",
   "id": "b088b64a",
   "metadata": {},
   "source": [
    ">3. Displays statistics on the total and average trip duration."
   ]
  },
  {
   "cell_type": "code",
   "execution_count": 7,
   "id": "3f9727ef",
   "metadata": {},
   "outputs": [],
   "source": [
    "def trip_duration_stats(df):\n",
    "\n",
    "    print('\\nCalculating Trip Duration...\\n')\n",
    "    start_time = time.time()\n",
    "\n",
    "    # display total travel time\n",
    "    print(df['Trip Duration'].sum())\n",
    "    \n",
    "    # display mean travel time\n",
    "    print(df['Trip Duration'].mean())\n",
    "    \n",
    "    print(\"\\nThis took %s seconds.\" % (time.time() - start_time))\n",
    "    print('-'*40)"
   ]
  },
  {
   "cell_type": "markdown",
   "id": "9b302b23",
   "metadata": {},
   "source": [
    ">4. Displays statistics on bikeshare users."
   ]
  },
  {
   "cell_type": "code",
   "execution_count": 8,
   "id": "d54f7926",
   "metadata": {},
   "outputs": [],
   "source": [
    "def user_stats(df,city):\n",
    "\n",
    "    print('\\nCalculating User Stats...\\n')\n",
    "    start_time = time.time()\n",
    "\n",
    "    # display counts of user types\n",
    "    print(df['User Type'].value_counts())\n",
    "    \n",
    "    # display counts of gender\n",
    "    if city != 'washington':\n",
    "        print(df['Gender'].value_counts())\n",
    "    \n",
    "        # display earliest, most recent, and most common year of birth\n",
    "        print(df['Birth Year'].mode()[0])\n",
    "        print(df['Birth Year'].max())\n",
    "        print(df['Birth Year'].min())\n",
    "    \n",
    "    print(\"\\nThis took %s seconds.\" % (time.time() - start_time))\n",
    "    print('-'*40)"
   ]
  },
  {
   "cell_type": "markdown",
   "id": "f92bf3bb",
   "metadata": {},
   "source": [
    "> At the end, we will offer to the user if he would like to display more raw data or not?"
   ]
  },
  {
   "cell_type": "code",
   "execution_count": 9,
   "id": "8d9643c6",
   "metadata": {},
   "outputs": [],
   "source": [
    "def display_data(df):\n",
    "    raw = input('Would you like to display raw data? Enter yes or no ')\n",
    "    if raw.lower()== 'yes' :\n",
    "        count = 0\n",
    "        while True :\n",
    "            print(df.iloc[count:count+5])\n",
    "            count += 5\n",
    "            ask = input('Would you like to display more raw data? Enter yes or no ')\n",
    "            if ask.lower() != 'yes':\n",
    "                break"
   ]
  },
  {
   "cell_type": "markdown",
   "id": "00235313",
   "metadata": {},
   "source": [
    "> Now, let's collect all the Previous functions together.\n",
    "\n",
    "> After that, we will offer to the user if he would like to restart?"
   ]
  },
  {
   "cell_type": "code",
   "execution_count": 10,
   "id": "1f236bfe",
   "metadata": {},
   "outputs": [],
   "source": [
    "def main():\n",
    "    while True:\n",
    "        city, month, day = get_filters()\n",
    "        df = load_data(city, month, day)\n",
    "\n",
    "        time_stats(df)\n",
    "        station_stats(df)\n",
    "        trip_duration_stats(df)\n",
    "        user_stats(df,city)\n",
    "        display_data(df)\n",
    "\n",
    "        restart = input('\\nWould you like to restart? Enter yes or no.\\n')\n",
    "        if restart.lower() != 'yes':\n",
    "            break"
   ]
  },
  {
   "cell_type": "markdown",
   "id": "f72a2bcd",
   "metadata": {},
   "source": [
    "> Finally, we will run the code and present the results in the terminal."
   ]
  },
  {
   "cell_type": "code",
   "execution_count": null,
   "id": "c9c60dfe",
   "metadata": {
    "scrolled": false
   },
   "outputs": [
    {
     "name": "stdout",
     "output_type": "stream",
     "text": [
      "Hello! Let's explore some US bikeshare data!\n"
     ]
    }
   ],
   "source": [
    "if __name__ == \"__main__\":\n",
    "    main()"
   ]
  },
  {
   "cell_type": "markdown",
   "id": "6262e903",
   "metadata": {},
   "source": [
    "<a id='conclusions'></a>\n",
    "## Conclusion\n",
    "\n",
    ">In this project, we used Python to explore data related to bike share systems for three major cities in the United States Chicago, New York City, and Washington. we wrote down a code to import the data and answer interesting questions about it by computing descriptive statistics. we wrote also a script that takes in raw input to create an interactive experience in the terminal to present these statistics.\n",
    "\n",
    ">Through this project, we are able to answer the following questions about the bike share data:\n",
    ">- What month occurs most often in the start time?\n",
    ">- What day of the week (Monday, Tuesday, etc.) occurs most often in the start time?\n",
    ">- What hour of the day occurs most often in the start time?\n",
    ">- What is the total trip duration and average trip duration?\n",
    ">- What is the most frequently used start station and most frequently used end station?\n",
    ">- What is the most common trip (i.e., the combination of start station and end station that occurs the most often)?\n",
    ">- What are the counts of each user type?\n",
    ">- What are the counts of genders?"
   ]
  }
 ],
 "metadata": {
  "kernelspec": {
   "display_name": "Python 3 (ipykernel)",
   "language": "python",
   "name": "python3"
  },
  "language_info": {
   "codemirror_mode": {
    "name": "ipython",
    "version": 3
   },
   "file_extension": ".py",
   "mimetype": "text/x-python",
   "name": "python",
   "nbconvert_exporter": "python",
   "pygments_lexer": "ipython3",
   "version": "3.8.8"
  }
 },
 "nbformat": 4,
 "nbformat_minor": 5
}
